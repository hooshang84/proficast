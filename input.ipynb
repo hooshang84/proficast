{
 "cells": [
  {
   "cell_type": "code",
   "execution_count": 1,
   "metadata": {},
   "outputs": [],
   "source": [
    "import pandas as pd\n",
    "import numpy as np\n",
    "import seaborn as sns"
   ]
  },
  {
   "cell_type": "code",
   "execution_count": 2,
   "metadata": {},
   "outputs": [
    {
     "data": {
      "text/plain": [
       "(998081, 11)"
      ]
     },
     "execution_count": 2,
     "metadata": {},
     "output_type": "execute_result"
    }
   ],
   "source": [
    "df = pd.read_csv('./city_of_los_angeles/us/ca/city_of_los_angeles.csv')\n",
    "df.shape"
   ]
  },
  {
   "cell_type": "code",
   "execution_count": 3,
   "metadata": {},
   "outputs": [
    {
     "data": {
      "text/html": [
       "<div>\n",
       "<style scoped>\n",
       "    .dataframe tbody tr th:only-of-type {\n",
       "        vertical-align: middle;\n",
       "    }\n",
       "\n",
       "    .dataframe tbody tr th {\n",
       "        vertical-align: top;\n",
       "    }\n",
       "\n",
       "    .dataframe thead th {\n",
       "        text-align: right;\n",
       "    }\n",
       "</style>\n",
       "<table border=\"1\" class=\"dataframe\">\n",
       "  <thead>\n",
       "    <tr style=\"text-align: right;\">\n",
       "      <th></th>\n",
       "      <th>LON</th>\n",
       "      <th>LAT</th>\n",
       "      <th>NUMBER</th>\n",
       "      <th>STREET</th>\n",
       "      <th>UNIT</th>\n",
       "      <th>CITY</th>\n",
       "      <th>DISTRICT</th>\n",
       "      <th>REGION</th>\n",
       "      <th>POSTCODE</th>\n",
       "      <th>ID</th>\n",
       "      <th>HASH</th>\n",
       "    </tr>\n",
       "  </thead>\n",
       "  <tbody>\n",
       "    <tr>\n",
       "      <th>0</th>\n",
       "      <td>-118.45398</td>\n",
       "      <td>34.30125</td>\n",
       "      <td>14707</td>\n",
       "      <td>W SUNNY DR</td>\n",
       "      <td>NaN</td>\n",
       "      <td>NaN</td>\n",
       "      <td>NaN</td>\n",
       "      <td>NaN</td>\n",
       "      <td>91342</td>\n",
       "      <td>222B149  1161</td>\n",
       "      <td>ebc6b8e65de75b35</td>\n",
       "    </tr>\n",
       "    <tr>\n",
       "      <th>1</th>\n",
       "      <td>-118.48269</td>\n",
       "      <td>34.22328</td>\n",
       "      <td>16057</td>\n",
       "      <td>W COLUMBUS LANE</td>\n",
       "      <td>NaN</td>\n",
       "      <td>NaN</td>\n",
       "      <td>NaN</td>\n",
       "      <td>NaN</td>\n",
       "      <td>91343</td>\n",
       "      <td>192B141   592</td>\n",
       "      <td>5e5062beacabe831</td>\n",
       "    </tr>\n",
       "    <tr>\n",
       "      <th>2</th>\n",
       "      <td>-118.48299</td>\n",
       "      <td>34.22420</td>\n",
       "      <td>16068</td>\n",
       "      <td>W COUSTEAU LANE</td>\n",
       "      <td>NaN</td>\n",
       "      <td>NaN</td>\n",
       "      <td>NaN</td>\n",
       "      <td>NaN</td>\n",
       "      <td>91343</td>\n",
       "      <td>192B141   540</td>\n",
       "      <td>084be1341ebfcbfb</td>\n",
       "    </tr>\n",
       "    <tr>\n",
       "      <th>3</th>\n",
       "      <td>-118.25233</td>\n",
       "      <td>34.06015</td>\n",
       "      <td>1027</td>\n",
       "      <td>W MIGNONETTE ST</td>\n",
       "      <td>NaN</td>\n",
       "      <td>NaN</td>\n",
       "      <td>NaN</td>\n",
       "      <td>NaN</td>\n",
       "      <td>90012</td>\n",
       "      <td>133-5A211 269</td>\n",
       "      <td>8fc6a5bc2937a388</td>\n",
       "    </tr>\n",
       "    <tr>\n",
       "      <th>4</th>\n",
       "      <td>-118.48269</td>\n",
       "      <td>34.22362</td>\n",
       "      <td>16058</td>\n",
       "      <td>W COOK LANE</td>\n",
       "      <td>NaN</td>\n",
       "      <td>NaN</td>\n",
       "      <td>NaN</td>\n",
       "      <td>NaN</td>\n",
       "      <td>91343</td>\n",
       "      <td>192B141   595</td>\n",
       "      <td>ba60d8f05beded02</td>\n",
       "    </tr>\n",
       "  </tbody>\n",
       "</table>\n",
       "</div>"
      ],
      "text/plain": [
       "         LON       LAT  NUMBER           STREET UNIT  CITY  DISTRICT  REGION  \\\n",
       "0 -118.45398  34.30125   14707       W SUNNY DR  NaN   NaN       NaN     NaN   \n",
       "1 -118.48269  34.22328   16057  W COLUMBUS LANE  NaN   NaN       NaN     NaN   \n",
       "2 -118.48299  34.22420   16068  W COUSTEAU LANE  NaN   NaN       NaN     NaN   \n",
       "3 -118.25233  34.06015    1027  W MIGNONETTE ST  NaN   NaN       NaN     NaN   \n",
       "4 -118.48269  34.22362   16058      W COOK LANE  NaN   NaN       NaN     NaN   \n",
       "\n",
       "   POSTCODE             ID              HASH  \n",
       "0     91342  222B149  1161  ebc6b8e65de75b35  \n",
       "1     91343  192B141   592  5e5062beacabe831  \n",
       "2     91343  192B141   540  084be1341ebfcbfb  \n",
       "3     90012  133-5A211 269  8fc6a5bc2937a388  \n",
       "4     91343  192B141   595  ba60d8f05beded02  "
      ]
     },
     "execution_count": 3,
     "metadata": {},
     "output_type": "execute_result"
    }
   ],
   "source": [
    "df.head()"
   ]
  },
  {
   "cell_type": "code",
   "execution_count": 5,
   "metadata": {},
   "outputs": [
    {
     "data": {
      "text/plain": [
       "<matplotlib.axes._subplots.AxesSubplot at 0x1a1c823590>"
      ]
     },
     "execution_count": 5,
     "metadata": {},
     "output_type": "execute_result"
    },
    {
     "data": {
      "image/png": "[encoded data removed]",
      "text/plain": [
       "<Figure size 432x288 with 1 Axes>"
      ]
     },
     "metadata": {
      "needs_background": "light"
     },
     "output_type": "display_data"
    }
   ],
   "source": [
    "sns.distplot(df['POSTCODE'], kde=False)"
   ]
  },
  {
   "cell_type": "code",
   "execution_count": 2,
   "metadata": {},
   "outputs": [],
   "source": [
    "#df.count(axis='POSTCODE')"
   ]
  },
  {
   "cell_type": "code",
   "execution_count": 14,
   "metadata": {},
   "outputs": [
    {
     "name": "stdout",
     "output_type": "stream",
     "text": [
      "http://www.zillow.com/homedetails/27-Virgil-Ct-Irvine-CA-92617/25776021_zpid/#charts-and-data\n"
     ]
    }
   ],
   "source": [
    "from pyzillow.pyzillow import ZillowWrapper, GetDeepSearchResults, GetUpdatedPropertyDetails\n",
    "\n",
    "address = '27 Virgil Court, Irvine, CA'\n",
    "zipcode = '92617'\n",
    "zillow_data = ZillowWrapper('X1-ZWz17fstlqlmvf_2ghte')\n",
    "deep_search_response = zillow_data.get_deep_search_results(address,zipcode)\n",
    "result = GetDeepSearchResults(deep_search_response)\n",
    "\n",
    "zillow_id = result.zillow_id\n",
    "#zillow_id = '25776021'\n",
    "print(result.graph_data_link)\n",
    "#updated_property_details_response = zillow_data.get_updated_property_details(zillow_id)\n",
    "#result = GetUpdatedPropertyDetails(updated_property_details_response)\n",
    "\n",
    "#print(result.ne)"
   ]
  },
  {
   "cell_type": "code",
   "execution_count": null,
   "metadata": {},
   "outputs": [],
   "source": []
  }
 ],
 "metadata": {
  "kernelspec": {
   "display_name": "Python 3",
   "language": "python",
   "name": "python3"
  },
  "language_info": {
   "codemirror_mode": {
    "name": "ipython",
    "version": 3
   },
   "file_extension": ".py",
   "mimetype": "text/x-python",
   "name": "python",
   "nbconvert_exporter": "python",
   "pygments_lexer": "ipython3",
   "version": "3.7.6"
  }
 },
 "nbformat": 4,
 "nbformat_minor": 4
}
